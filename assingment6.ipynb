{
 "cells": [
  {
   "cell_type": "code",
   "execution_count": 1,
   "id": "2b9b8aea-fcd9-4d26-90c4-16b89428c019",
   "metadata": {},
   "outputs": [],
   "source": [
    "#Q1. Explain Class and Object with respect to Object-Oriented Programming. Give a suitable example.\n",
    "#= class is a blueprint or templete which contain simlar proerties and object is a refrence of the \n",
    "# class we can create object to access  method and variable of that class\n",
    "# example of class is animals and bird animals conatin lion and tiger etc and birds conatin pigeion and sparrow like bird"
   ]
  },
  {
   "cell_type": "code",
   "execution_count": 2,
   "id": "fa90d433-2ae1-4fda-99ff-61895ce63145",
   "metadata": {},
   "outputs": [],
   "source": [
    "#Q2. Name the four pillars of OOPs.\n",
    "#= inheritance\n",
    "#= encapsulation\n",
    "#= abstraction\n",
    "# polymorphism"
   ]
  },
  {
   "cell_type": "code",
   "execution_count": 3,
   "id": "f6b5532b-46e1-4256-acce-841b6093256e",
   "metadata": {},
   "outputs": [],
   "source": [
    "#Q3. Explain why the __init__() function is used. Give a suitable example\n",
    "# init method are use to pass the parameter or data to the class this is also called costructor"
   ]
  },
  {
   "cell_type": "code",
   "execution_count": 4,
   "id": "62622b1d-0cb6-4716-a2f7-7727afe8b29d",
   "metadata": {},
   "outputs": [],
   "source": [
    "#Q4. Why self is used in OOPs\n",
    "#The self parameter is a reference to the current instance of the class, and is used to access variables that belongs to the class."
   ]
  },
  {
   "cell_type": "code",
   "execution_count": null,
   "id": "0f6284d6-ce72-45c5-96a4-0f5f2074d043",
   "metadata": {},
   "outputs": [],
   "source": [
    "#\n",
    "#inheritance is a mechanism in which one class acquires the property of another class.\n",
    "#For example, a child inherits the traits of his/her parents. With inheritance, \n",
    "#we can reuse the fields and methods of the existing class. Hence, \n",
    "#inheritance facilitates Reusability and is an important concept of OOPs."
   ]
  }
 ],
 "metadata": {
  "kernelspec": {
   "display_name": "Python 3 (ipykernel)",
   "language": "python",
   "name": "python3"
  },
  "language_info": {
   "codemirror_mode": {
    "name": "ipython",
    "version": 3
   },
   "file_extension": ".py",
   "mimetype": "text/x-python",
   "name": "python",
   "nbconvert_exporter": "python",
   "pygments_lexer": "ipython3",
   "version": "3.10.8"
  }
 },
 "nbformat": 4,
 "nbformat_minor": 5
}
