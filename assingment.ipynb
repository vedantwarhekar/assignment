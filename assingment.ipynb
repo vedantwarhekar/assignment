{
 "cells": [
  {
   "cell_type": "code",
   "execution_count": 2,
   "id": "c10e6d2a-b64b-4e12-a4d7-4cba715b23fb",
   "metadata": {},
   "outputs": [],
   "source": [
    "#1 who devlope the python programming language??\n",
    "#= Guido van Rossum in 1970's"
   ]
  },
  {
   "cell_type": "code",
   "execution_count": 3,
   "id": "460e40ad-388f-4998-8081-fc9c844fbb7e",
   "metadata": {},
   "outputs": [],
   "source": [
    "#2 which type of programming python does support??\n",
    "#= Python is a multi-paradigm programming language. Object-oriented programming and structured programming are fully supported"
   ]
  },
  {
   "cell_type": "code",
   "execution_count": 4,
   "id": "ed873cfa-6223-46e0-8c9d-abcd296c4dd8",
   "metadata": {},
   "outputs": [],
   "source": [
    "#3 is python is case sensetive when deling with identifier??\n",
    "#= true,python is case sensetive when deling with identifier."
   ]
  },
  {
   "cell_type": "code",
   "execution_count": 6,
   "id": "77fbb16c-4540-46be-9be1-a648f48c81ee",
   "metadata": {},
   "outputs": [],
   "source": [
    "#4 what is the correct extension for python file \n",
    "#= .py is used while declaring the file"
   ]
  },
  {
   "cell_type": "code",
   "execution_count": 7,
   "id": "ebe672c2-c834-416a-907a-b739b2095458",
   "metadata": {},
   "outputs": [],
   "source": [
    "#5 is python is compiled or intrepreted??\n",
    "#= python is an intrpreted programming language"
   ]
  },
  {
   "cell_type": "code",
   "execution_count": 8,
   "id": "92fa0254-144e-4aa6-bb42-9c2efb4eb35b",
   "metadata": {},
   "outputs": [],
   "source": [
    "#6 name a few block of code used to deffine in python proggrming language \n",
    "#= i cannot understand the question"
   ]
  },
  {
   "cell_type": "code",
   "execution_count": 9,
   "id": "f0d330c3-9e33-4771-abdf-81c2cdd6a1a5",
   "metadata": {},
   "outputs": [],
   "source": [
    "#7 state a charachter used to give a single-line comment in python programing language\n",
    "#= # is a charachter used for single comment in python programming language"
   ]
  },
  {
   "cell_type": "code",
   "execution_count": 10,
   "id": "270acbe1-ad19-4e4a-851a-53be117346bf",
   "metadata": {},
   "outputs": [],
   "source": [
    "#8 mention a function which can help us to find the current version of python??\n",
    "#= Using python_version() function."
   ]
  },
  {
   "cell_type": "code",
   "execution_count": 11,
   "id": "eb97848f-9698-4ee9-aaf1-2dac2a9b77a4",
   "metadata": {},
   "outputs": [],
   "source": [
    "#9 python is supports the creation of ananymous functions at runtime ,using a construct called\n",
    "#= lambda\""
   ]
  },
  {
   "cell_type": "code",
   "execution_count": 12,
   "id": "1aee7076-ce0e-480a-91ec-da93dbbcd5c7",
   "metadata": {},
   "outputs": [],
   "source": [
    "#10 what does python pip stands for\n",
    "#= preferred installer program"
   ]
  },
  {
   "cell_type": "code",
   "execution_count": 13,
   "id": "f7433e18-2064-476f-bdf6-15111061d2ae",
   "metadata": {},
   "outputs": [],
   "source": [
    "#11 mention a few built-in functions in python??\n",
    "#= type(),int(),float(),str(),input().."
   ]
  },
  {
   "cell_type": "code",
   "execution_count": 14,
   "id": "30de56b8-4bee-473f-9deb-bbf2caf23d71",
   "metadata": {},
   "outputs": [],
   "source": [
    "#12 what is the maximum possible length of an identifier in python??\n",
    "#= 79 charachter"
   ]
  },
  {
   "cell_type": "code",
   "execution_count": 15,
   "id": "02e13619-7b8c-43a7-a3a6-a94834f418f9",
   "metadata": {},
   "outputs": [
    {
     "data": {
      "text/plain": [
       "\" =Over 125,000 third-party Python libraries exist that enable you to use Python \\nfor machine learning, web processing, and even biology. Also, its data-focused\\nlibraries like pandas, NumPy, and matplotlib make it very capable of processing,\\nmanipulating, \\nand visualizing data — which is why it's favored in data analysis.\""
      ]
     },
     "execution_count": 15,
     "metadata": {},
     "output_type": "execute_result"
    }
   ],
   "source": [
    "#13 what are the benifits of using python??\n",
    "\"\"\" =Over 125,000 third-party Python libraries exist that enable you to use Python \n",
    "for machine learning, web processing, and even biology. Also, its data-focused\n",
    "libraries like pandas, NumPy, and matplotlib make it very capable of processing,\n",
    "manipulating, \n",
    "and visualizing data — which is why it's favored in data analysis.\"\"\""
   ]
  },
  {
   "cell_type": "code",
   "execution_count": 17,
   "id": "7b2a3f5c-f4d1-4bed-ab3f-58ff0126ee9e",
   "metadata": {},
   "outputs": [
    {
     "data": {
      "text/plain": [
       "' =Memory management in Python involves a private heap containing all Python objects\\nand data structures. The management of this private heap \\nis ensured internally by the Python memory manager.'"
      ]
     },
     "execution_count": 17,
     "metadata": {},
     "output_type": "execute_result"
    }
   ],
   "source": [
    "#14how is memeory manage in python??\n",
    "\"\"\" =Memory management in Python involves a private heap containing all Python objects\n",
    "and data structures. The management of this private heap \n",
    "is ensured internally by the Python memory manager.\"\"\""
   ]
  },
  {
   "cell_type": "code",
   "execution_count": 18,
   "id": "fe9f7e73-1565-4f51-b520-f5009b7d93ac",
   "metadata": {},
   "outputs": [],
   "source": [
    "#15 how to install python on windows and set path variables\n",
    "#= i thoght this is practical question"
   ]
  },
  {
   "cell_type": "code",
   "execution_count": null,
   "id": "9bf89992-9a16-4745-8271-da2306ca701c",
   "metadata": {},
   "outputs": [],
   "source": [
    "#"
   ]
  }
 ],
 "metadata": {
  "kernelspec": {
   "display_name": "Python 3 (ipykernel)",
   "language": "python",
   "name": "python3"
  },
  "language_info": {
   "codemirror_mode": {
    "name": "ipython",
    "version": 3
   },
   "file_extension": ".py",
   "mimetype": "text/x-python",
   "name": "python",
   "nbconvert_exporter": "python",
   "pygments_lexer": "ipython3",
   "version": "3.10.8"
  }
 },
 "nbformat": 4,
 "nbformat_minor": 5
}
