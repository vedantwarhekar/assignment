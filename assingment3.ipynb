{
 "cells": [
  {
   "cell_type": "code",
   "execution_count": null,
   "id": "5f2ab989-f92c-47a3-9143-7c56e1a26d0f",
   "metadata": {},
   "outputs": [],
   "source": [
    "#1 explain with an example when to use for loop and while loop\n",
    "\"\"\" \n",
    "Use a for loop when you know the loop should execute n times.\n",
    "Use a while loop for reading a file into a variable. \n",
    "Use a while loop when asking for user input. \n",
    "Use a while loop when the increment value is nonstandard.\n",
    "\"\"\""
   ]
  },
  {
   "cell_type": "code",
   "execution_count": 4,
   "id": "98b7ecbb-dc8b-4ee5-ae4b-99626b46128b",
   "metadata": {},
   "outputs": [
    {
     "name": "stdout",
     "output_type": "stream",
     "text": [
      "the sum of first n natural number is:  55\n",
      "the product of first n natural number is:  3628800\n"
     ]
    }
   ],
   "source": [
    "#2write a python program to print the sum and product of firsr n natural number usind for and while loop\n",
    "\n",
    "# using for loop\n",
    "sum= 0\n",
    "product = 1\n",
    "for i in range(1,11):\n",
    "    sum = sum+i\n",
    "    product = product*i       \n",
    "print(\"the sum of first n natural number is: \",sum)\n",
    "print(\"the product of first n natural number is: \",product)"
   ]
  },
  {
   "cell_type": "code",
   "execution_count": 13,
   "id": "cdafc02e-e262-49ba-940f-f9a046955502",
   "metadata": {},
   "outputs": [
    {
     "name": "stdin",
     "output_type": "stream",
     "text": [
      "Enter your unit:  310\n"
     ]
    },
    {
     "name": "stdout",
     "output_type": "stream",
     "text": [
      "-540\n"
     ]
    }
   ],
   "source": [
    "#3 crete a python program to print bill for household\n",
    "unit = int(input(\"Enter your unit: \"))\n",
    "if unit <= 100:\n",
    "    bill = unit * 4.5\n",
    "elif unit >= 101 and unit <= 200:\n",
    "    bill = 450 + ((unit - 100) * 6)\n",
    "elif unit >= 201 and unit <= 300:\n",
    "    bill = 450 +  450 + ((unit - 100) * 6) + ((unit - 200) * 10)\n",
    "else:\n",
    "    bill = 450 +  450 + ((unit - 100) * 6) + ((unit - 200) * 10)+ ((unit - 500) * 20) \n",
    "print(bill)    "
   ]
  },
  {
   "cell_type": "code",
   "execution_count": 19,
   "id": "41174959-0b45-469a-9c4e-c95bc8922b11",
   "metadata": {},
   "outputs": [
    {
     "name": "stdout",
     "output_type": "stream",
     "text": [
      "[1000, 8000, 27000, 64000, 125000, 216000, 343000, 512000, 729000, 1000000]\n"
     ]
    }
   ],
   "source": [
    "#4\n",
    "l = list(range(1,101))\n",
    "cube = 1\n",
    "l1=[]\n",
    "for i in l:\n",
    "    cube = i**3\n",
    "    if cube%4==0 and cube%5==0:\n",
    "        l1.append(cube)\n",
    "print(l1)       "
   ]
  },
  {
   "cell_type": "code",
   "execution_count": 20,
   "id": "0769890c-e28a-49b5-91af-6624af58ace0",
   "metadata": {},
   "outputs": [
    {
     "name": "stdout",
     "output_type": "stream",
     "text": [
      "i\n",
      " \n",
      "w\n",
      "a\n",
      "n\n",
      "t\n",
      " \n",
      "t\n",
      "o\n",
      " \n",
      "b\n",
      "e\n",
      "c\n",
      "o\n",
      "m\n",
      "e\n",
      " \n",
      "a\n",
      " \n",
      "d\n",
      "a\n",
      "t\n",
      "a\n",
      " \n",
      "s\n",
      "c\n",
      "i\n",
      "e\n",
      "n\n",
      "t\n",
      "i\n",
      "s\n",
      "t\n"
     ]
    }
   ],
   "source": [
    "#5 \n",
    "string1 = \"i want to become a data scientist\"\n",
    "count = 1\n",
    "for i in string1:\n",
    "    if i=='a':\n",
    "        count = cont+1\n",
    "        e"
   ]
  },
  {
   "cell_type": "code",
   "execution_count": null,
   "id": "8f091dae-cd4b-4f65-855f-1ba342d857ca",
   "metadata": {},
   "outputs": [],
   "source": []
  }
 ],
 "metadata": {
  "kernelspec": {
   "display_name": "Python 3 (ipykernel)",
   "language": "python",
   "name": "python3"
  },
  "language_info": {
   "codemirror_mode": {
    "name": "ipython",
    "version": 3
   },
   "file_extension": ".py",
   "mimetype": "text/x-python",
   "name": "python",
   "nbconvert_exporter": "python",
   "pygments_lexer": "ipython3",
   "version": "3.10.8"
  }
 },
 "nbformat": 4,
 "nbformat_minor": 5
}
