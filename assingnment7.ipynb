{
 "cells": [
  {
   "cell_type": "code",
   "execution_count": 2,
   "id": "84e01e74-c85e-458f-b46a-3d6a27e3aded",
   "metadata": {},
   "outputs": [],
   "source": [
    "#Q1. What is Abstraction in OOps? Explain with an example.\n",
    "#=Abstraction is the process of hiding the internal details of an application from the outer world. \n",
    "#Abstraction is used to describe things in simple terms. \n",
    "#It's used to create a boundary between the application and the client programs."
   ]
  },
  {
   "cell_type": "code",
   "execution_count": 3,
   "id": "c7f553cb-78b6-4bf9-a219-6ffc6f070c25",
   "metadata": {},
   "outputs": [],
   "source": [
    "#Q2. Differentiate between Abstraction and Encapsulation. Explain with an example.\n",
    "#= Abstraction is a design level process and it is used to reduce the complexity at the designing stage of a project. \n",
    "#Encapsulation is an implementation level process,\n",
    "#and it is used to provide privacy and maintain control over the transparency of data at the implementation stage of a project."
   ]
  },
  {
   "cell_type": "code",
   "execution_count": 4,
   "id": "1d3962eb-3849-4b38-a2ff-028b9063c63c",
   "metadata": {},
   "outputs": [],
   "source": [
    "#Q3. What is abc module in python? Why is it used?\n",
    "#The collections module has some concrete classes that derive from ABCs; these can, of course, be further derived. In addition, the collections.abc submodule has some ABCs that can be used to test whether a class or instance provides a particular interface, for example, if it is hashable or if it is a mapping.\n",
    "\n",
    "#This module provides the metaclass ABCMeta for defining ABCs and a helper class ABC to alternatively define ABCs through inheritance:\n",
    "\n",
    "#class abc.ABC"
   ]
  },
  {
   "cell_type": "code",
   "execution_count": 5,
   "id": "239eec35-9860-4016-ad41-068df9044572",
   "metadata": {},
   "outputs": [],
   "source": [
    "#Q4. How can we achieve data abstraction?\n",
    "#The 'abc' module in Python library provides the infrastructure for defining custom abstract base classes. \n",
    "#'abc' works by marking methods of the base class as abstract. This is done by @absttractmethod decorator."
   ]
  },
  {
   "cell_type": "code",
   "execution_count": null,
   "id": "cb9bdb8b-71e1-4644-aab6-62b9afc44800",
   "metadata": {},
   "outputs": [],
   "source": [
    "#Q5. Can we create an instance of an abstract class? Explain your answer.\n",
    "Abstract classes cannot be instantiated, but they can be subclassed. When an abstract class is subclassed,\n",
    "the subclass usually provides implementations for all of the abstract methods in its parent class. However, \n",
    "if it does not, then the subclass must also be declared abstract ."
   ]
  }
 ],
 "metadata": {
  "kernelspec": {
   "display_name": "Python 3 (ipykernel)",
   "language": "python",
   "name": "python3"
  },
  "language_info": {
   "codemirror_mode": {
    "name": "ipython",
    "version": 3
   },
   "file_extension": ".py",
   "mimetype": "text/x-python",
   "name": "python",
   "nbconvert_exporter": "python",
   "pygments_lexer": "ipython3",
   "version": "3.10.8"
  }
 },
 "nbformat": 4,
 "nbformat_minor": 5
}
