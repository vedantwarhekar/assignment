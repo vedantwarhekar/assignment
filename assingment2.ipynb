{
 "cells": [
  {
   "cell_type": "code",
   "execution_count": 4,
   "id": "f9e32bea-2a9a-4a66-b150-35aebb704131",
   "metadata": {},
   "outputs": [
    {
     "name": "stdin",
     "output_type": "stream",
     "text": [
      "entre your percentage 5\n"
     ]
    },
    {
     "name": "stdout",
     "output_type": "stream",
     "text": [
      "You have grade :D\n"
     ]
    }
   ],
   "source": [
    "# 1 write a programm to exceptpercentage from the user and display the \n",
    "#grade accroding to the following\n",
    "percentage = int(input(\"entre your percentage\"))\n",
    "if percentage>90:\n",
    "    print(\"you have grade : A\")\n",
    "elif percentage >80 and percentage <=90:\n",
    "    print(\"you have grade : B\")\n",
    "elif percentage >= 60 and percentage<=80:\n",
    "    print(\"you have grade : C\")\n",
    "else:\n",
    "    print(\"You have grade :D\")\n",
    "    \n",
    "    "
   ]
  },
  {
   "cell_type": "code",
   "execution_count": 13,
   "id": "1de40941-7226-4b6b-a985-da0413956b06",
   "metadata": {},
   "outputs": [
    {
     "name": "stdin",
     "output_type": "stream",
     "text": [
      "entre your bike cost :  500000\n"
     ]
    },
    {
     "name": "stdout",
     "output_type": "stream",
     "text": [
      "your tax is :  485000\n"
     ]
    }
   ],
   "source": [
    "#write a program to accept the cost price of the bike and display the road tax\n",
    "cost = int(input(\"entre your bike cost : \"))\n",
    "if cost > 100000:\n",
    "    print(\"your tax is : \",cost-15000)\n",
    "elif cost >50000 and cost <= 100000:\n",
    "    print(\"your tax is : \",cost-10000)\n",
    "elif cost <= 50000:\n",
    "    print(\"your tax is \",cost-5000)"
   ]
  },
  {
   "cell_type": "code",
   "execution_count": 15,
   "id": "8dd2ad2d-d0f0-41a3-b47e-684df0ad075b",
   "metadata": {},
   "outputs": [
    {
     "name": "stdin",
     "output_type": "stream",
     "text": [
      "entre a city name Agra\n"
     ]
    },
    {
     "name": "stdout",
     "output_type": "stream",
     "text": [
      "the special movement is : Taj Mahal \n"
     ]
    }
   ],
   "source": [
    "# accept any city  from user and disply moumement of that city\n",
    "city = input(\"entre a city name\")\n",
    "if city == \"Delhi\" or city==\"delhi\":\n",
    "    print(\"the special movement is : Red Fort \")\n",
    "elif city == \"Agra\" or city==\"agra\":\n",
    "    print(\"the special movement is : Taj Mahal \")\n",
    "elif city == \"Jaipur\" or city==\"jaipur\":\n",
    "    print(\"the special movement is : jal Mahal \")\n",
    "else:\n",
    "    print(\"no inforamation about this\")\n",
    "          "
   ]
  },
  {
   "cell_type": "code",
   "execution_count": 16,
   "id": "6bd5da2c-2baa-4919-8528-4b34af991b98",
   "metadata": {},
   "outputs": [
    {
     "data": {
      "text/plain": [
       "\"\\nwhy and when to use while loop in python give a detaile information in detail\\n= A while loop will run a piece of code while a condition is True. \\nIt will keep executing the desired set of code statements until that condition is no longer True. \\nA while loop will always first check the condition before running. \\nIf the condition evaluates to True then the loop will run the code within the loop's body.\\n\""
      ]
     },
     "execution_count": 16,
     "metadata": {},
     "output_type": "execute_result"
    }
   ],
   "source": [
    "\"\"\"\n",
    "why and when to use while loop in python give a detaile information in detail\n",
    "= A while loop will run a piece of code while a condition is True. \n",
    "It will keep executing the desired set of code statements until that condition is no longer True. \n",
    "A while loop will always first check the condition before running. \n",
    "If the condition evaluates to True then the loop will run the code within the loop's body.\n",
    "\"\"\""
   ]
  },
  {
   "cell_type": "code",
   "execution_count": 18,
   "id": "ae0f90b4-c069-4e39-907b-37e5c3b4697a",
   "metadata": {},
   "outputs": [
    {
     "name": "stdout",
     "output_type": "stream",
     "text": [
      "9\n",
      "8\n",
      "7\n",
      "6\n",
      "5\n",
      "4\n",
      "3\n",
      "2\n",
      "1\n"
     ]
    }
   ],
   "source": [
    "# reverse a while loop to display number from 10 to 1\n",
    "number = 10\n",
    "i=1\n",
    "while i<10:\n",
    "    print(number-i)\n",
    "    i=i+1"
   ]
  },
  {
   "cell_type": "code",
   "execution_count": null,
   "id": "991c3214-8fb1-4b2d-9036-d1ee5760bc2e",
   "metadata": {},
   "outputs": [],
   "source": []
  }
 ],
 "metadata": {
  "kernelspec": {
   "display_name": "Python 3 (ipykernel)",
   "language": "python",
   "name": "python3"
  },
  "language_info": {
   "codemirror_mode": {
    "name": "ipython",
    "version": 3
   },
   "file_extension": ".py",
   "mimetype": "text/x-python",
   "name": "python",
   "nbconvert_exporter": "python",
   "pygments_lexer": "ipython3",
   "version": "3.10.8"
  }
 },
 "nbformat": 4,
 "nbformat_minor": 5
}
