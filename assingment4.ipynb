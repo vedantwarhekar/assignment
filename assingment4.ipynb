{
 "cells": [
  {
   "cell_type": "code",
   "execution_count": 7,
   "id": "3df53913-1e2d-430d-ab45-a36186b1aaf6",
   "metadata": {},
   "outputs": [],
   "source": [
    "#Which keyword is used to create a function? Create a function to return a list of odd numbers in the \n",
    "#range of 1 to 25.\n",
    "#= def keywoard are used to createa function \n",
    "l = list(range(1,26))\n",
    "l2=[]\n",
    "def find_odd(x):\n",
    "    for i in l:\n",
    "        if i%3==0:\n",
    "            l2.append(i)\n",
    "find_odd(l)            \n",
    "        "
   ]
  },
  {
   "cell_type": "code",
   "execution_count": 5,
   "id": "b2d923c0-e62a-4eeb-bd84-5765c14c380d",
   "metadata": {},
   "outputs": [],
   "source": [
    "#2  Why *args and **kwargs is used in some functions? Create a function each for *args and **kwargs \n",
    "#to demonstrate their use.\n",
    "#= *args is used to give many parameters in function but they are same type and **kwargs are use to give\n",
    "# diffrent parameters of diffrent type"
   ]
  },
  {
   "cell_type": "code",
   "execution_count": 12,
   "id": "41dea864-5c0f-4d0d-b65d-acd1006d885e",
   "metadata": {},
   "outputs": [
    {
     "name": "stdout",
     "output_type": "stream",
     "text": [
      "[(1, 2, 3, 4, 5, 6, 7)]\n",
      "[{'a': [1, 2, 3, 4, 5], 'b': {'name': 'vedant'}}]\n"
     ]
    }
   ],
   "source": [
    "l=[]\n",
    "def test(*args):\n",
    "        l.append(args)\n",
    "test(1,2,3,4,5,6,7)\n",
    "print(l)\n",
    "\n",
    "l2=[]\n",
    "def test2(**kwargs):\n",
    "        l2.append(kwargs)\n",
    "test2(a=[1,2,3,4,5],b={\"name\":\"vedant\"})\n",
    "print(l2)"
   ]
  },
  {
   "cell_type": "code",
   "execution_count": null,
   "id": "c1c41202-37fe-463b-8f3f-ff3c1f46da1f",
   "metadata": {},
   "outputs": [],
   "source": [
    "#Q3.  What is an iterator in python? Name the method used to initialise the iterator object and the method \n",
    "#used for iteration. Use these methods to print the first five elements of the given list [2, 4, 6, 8, 10, 12, 14, \n",
    "#16, 18, 20]\n",
    "#=An iterator is an object that contains a countable number of values. An iterator is an object that can be iterated upon, meaning that you can traverse through all the values.\n",
    "# iter() method are used for intilization of iter object and genrator method is used for iteration..\n",
    "l= [2, 4, 6, 8, 10, 12, 14, 16, 18, 20]\n"
   ]
  },
  {
   "cell_type": "code",
   "execution_count": null,
   "id": "d072e1e6-dffd-43b5-be05-562dfb5d8239",
   "metadata": {},
   "outputs": [],
   "source": [
    "#Q6. Write a python program to print the first 10 Fibonacci numbers using a while loop.\n",
    "a = 0\n",
    "b = 1\n",
    "counter =1\n",
    "while countre< 10:\n",
    "        print(a)\n",
    "        c=a+b\n",
    "        a=b\n",
    "        b=c\n",
    "        countre=countre+1"
   ]
  },
  {
   "cell_type": "code",
   "execution_count": null,
   "id": "74202b06-4390-4b99-bd5f-c0fdf95895e7",
   "metadata": {},
   "outputs": [],
   "source": [
    "#Q7. Write a List Comprehension to iterate through the given string: ‘pwskills’.\n",
    "#Expected output: ['p', 'w', 's', 'k', 'i', 'l', 'l', 's']\n",
    " s= \"pwskills\"\n",
    "list(map(lambda s : s.uppercase(),s))   "
   ]
  },
  {
   "cell_type": "code",
   "execution_count": null,
   "id": "66447228-89c8-40b5-af4a-52cbcaafb5db",
   "metadata": {},
   "outputs": [],
   "source": [
    "#Q9.Write a code to print odd numbers from 1 to 100 using list comprehens\n",
    "l=list(range(1,101))\n",
    "[l%3==0 for i in l]"
   ]
  },
  {
   "cell_type": "code",
   "execution_count": null,
   "id": "58c5cc45-26c8-4885-ac9b-c76455e7c30a",
   "metadata": {},
   "outputs": [],
   "source": []
  }
 ],
 "metadata": {
  "kernelspec": {
   "display_name": "Python 3 (ipykernel)",
   "language": "python",
   "name": "python3"
  },
  "language_info": {
   "codemirror_mode": {
    "name": "ipython",
    "version": 3
   },
   "file_extension": ".py",
   "mimetype": "text/x-python",
   "name": "python",
   "nbconvert_exporter": "python",
   "pygments_lexer": "ipython3",
   "version": "3.10.8"
  }
 },
 "nbformat": 4,
 "nbformat_minor": 5
}
